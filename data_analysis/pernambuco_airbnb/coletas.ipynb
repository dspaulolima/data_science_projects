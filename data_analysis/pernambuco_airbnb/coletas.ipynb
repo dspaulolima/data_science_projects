{
 "cells": [
  {
   "cell_type": "code",
   "execution_count": 1,
   "metadata": {},
   "outputs": [],
   "source": [
    "import pandas as pd\n",
    "import requests\n",
    "import time\n",
    "import re\n",
    "from bs4 import BeautifulSoup\n",
    "from selenium import webdriver\n",
    "from selenium.webdriver.chrome.options import Options"
   ]
  },
  {
   "cell_type": "code",
   "execution_count": null,
   "metadata": {},
   "outputs": [],
   "source": [
    "# driver = webdriver.Chrome(\"./chromedriver\")\n",
    "# driver.get(\"https://www.airbnb.com.br/s/Recife/homes?tab_id=home_tab&refinement_paths%5B%5D=%2Fhomes&date_picker_type=calendar&source=structured_search_input_header&search_type=search_query&gps_lat=-8.1209883&gps_lng=-34.9024239\")\n",
    "\n",
    "resultado = driver.find_element_by_xpath('//[@div]')\n",
    "type(resultado)"
   ]
  },
  {
   "cell_type": "code",
   "execution_count": null,
   "metadata": {},
   "outputs": [],
   "source": [
    "for item in resultado:\n",
    "    \n",
    "    html = item.get_attribute(\"innerHTML\")\n",
    "    soup = BeautifulSoup(html, \"html.parser\")\n",
    "    \n",
    "    try:\n",
    "        title = soup.find(\"a\", class_ = \"jobtitle\").text.replace('\\n', '')\n",
    "    except:\n",
    "        title = 'None'\n",
    "        \n",
    "    print(title)"
   ]
  },
  {
   "cell_type": "markdown",
   "metadata": {},
   "source": [
    "## CLICK"
   ]
  },
  {
   "cell_type": "markdown",
   "metadata": {},
   "source": [
    "----------\n",
    "testes:"
   ]
  },
  {
   "cell_type": "code",
   "execution_count": 6,
   "metadata": {},
   "outputs": [
    {
     "ename": "TypeError",
     "evalue": "list indices must be integers or slices, not str",
     "output_type": "error",
     "traceback": [
      "\u001b[1;31m---------------------------------------------------------------------------\u001b[0m",
      "\u001b[1;31mTypeError\u001b[0m                                 Traceback (most recent call last)",
      "\u001b[1;32m<ipython-input-6-f0f5e5d1e8e4>\u001b[0m in \u001b[0;36m<module>\u001b[1;34m\u001b[0m\n\u001b[0;32m      4\u001b[0m \u001b[1;33m\u001b[0m\u001b[0m\n\u001b[0;32m      5\u001b[0m \u001b[0msoup\u001b[0m \u001b[1;33m=\u001b[0m \u001b[0mBeautifulSoup\u001b[0m\u001b[1;33m(\u001b[0m\u001b[0mhtml\u001b[0m\u001b[1;33m,\u001b[0m \u001b[1;34m\"html.parser\"\u001b[0m\u001b[1;33m)\u001b[0m\u001b[1;33m\u001b[0m\u001b[1;33m\u001b[0m\u001b[0m\n\u001b[1;32m----> 6\u001b[1;33m \u001b[0msoup\u001b[0m\u001b[1;33m.\u001b[0m\u001b[0mselect\u001b[0m\u001b[1;33m(\u001b[0m\u001b[1;34m\"a\"\u001b[0m\u001b[1;33m)\u001b[0m\u001b[1;33m[\u001b[0m\u001b[1;34m'href'\u001b[0m\u001b[1;33m]\u001b[0m\u001b[1;33m\u001b[0m\u001b[1;33m\u001b[0m\u001b[0m\n\u001b[0m\u001b[0;32m      7\u001b[0m \u001b[1;33m\u001b[0m\u001b[0m\n\u001b[0;32m      8\u001b[0m \u001b[1;31m# for i in listing_class:\u001b[0m\u001b[1;33m\u001b[0m\u001b[1;33m\u001b[0m\u001b[1;33m\u001b[0m\u001b[0m\n",
      "\u001b[1;31mTypeError\u001b[0m: list indices must be integers or slices, not str"
     ]
    }
   ],
   "source": [
    "listing_links = driver.find_element_by_class_name(\"_8s3ctt\")\n",
    "\n",
    "html = listing_links.get_attribute(\"innerHTML\")\n",
    "\n",
    "soup = BeautifulSoup(html, \"html.parser\")\n",
    "soup.select(\"a\")['href']\n",
    "\n",
    "# for i in listing_class:\n",
    "    \n",
    "#     html = i.get_attribute(\"innerHTML\")\n",
    "#     soup = BeautifulSoup(html, 'html.parser')\n",
    "    \n",
    "#     print(soup)"
   ]
  },
  {
   "cell_type": "markdown",
   "metadata": {},
   "source": [
    "----------"
   ]
  },
  {
   "cell_type": "code",
   "execution_count": null,
   "metadata": {},
   "outputs": [],
   "source": []
  },
  {
   "cell_type": "markdown",
   "metadata": {},
   "source": [
    "### No Listing (Update Futuro)"
   ]
  },
  {
   "cell_type": "code",
   "execution_count": 18,
   "metadata": {},
   "outputs": [
    {
     "name": "stdout",
     "output_type": "stream",
     "text": [
      "39041531\n"
     ]
    }
   ],
   "source": [
    "## >> Click (ele abre nova aba)\n",
    "\n",
    "link_list = []\n",
    "\n",
    "listing_class = driver.find_element_by_class_name(\"_gjfol0\")\n",
    "link = listing_class.get_attribute(\"href\")\n",
    "# listing_class.click()\n",
    "\n",
    "for i in re.findall(r\"\\d+\",link[0:40]):\n",
    "    print(i)\n",
    "\n",
    "## >> Click Amenities\n",
    "\n",
    "## Coleta dados"
   ]
  },
  {
   "cell_type": "markdown",
   "metadata": {},
   "source": [
    "### No Host ID (Updata Futuro)"
   ]
  },
  {
   "cell_type": "code",
   "execution_count": null,
   "metadata": {},
   "outputs": [],
   "source": [
    "## Dentro de cada listing\n",
    "## >> Click no host\n",
    "\n",
    "host_class = driver.find_element_by_class_name(\"_9ofhsl\")\n",
    "host_class.click()\n"
   ]
  },
  {
   "cell_type": "markdown",
   "metadata": {},
   "source": [
    "### No next"
   ]
  },
  {
   "cell_type": "code",
   "execution_count": 43,
   "metadata": {},
   "outputs": [
    {
     "name": "stdout",
     "output_type": "stream",
     "text": [
      "pg  1\n",
      "pg  2\n",
      "pg  3\n",
      "pg  4\n",
      "pg  5\n",
      "pg  6\n"
     ]
    }
   ],
   "source": [
    "i=1\n",
    "while i <= 6:\n",
    "    driver.find_element_by_class_name('_za9j7e').click()\n",
    "    print(\"pg \", i)\n",
    "    i += 1"
   ]
  },
  {
   "cell_type": "code",
   "execution_count": null,
   "metadata": {},
   "outputs": [],
   "source": [
    "# Entra na página do host (dentro de cada listing)\n",
    "\n",
    "ids = driver.find_element_by_xpath(\"/html/head/link[2]\")\n",
    "\n",
    "for i in re.findall(r\"\\d+\", ids.get_attribute(\"href\")):\n",
    "    user_idx = int(i)"
   ]
  }
 ],
 "metadata": {
  "kernelspec": {
   "display_name": "Python 3",
   "language": "python",
   "name": "python3"
  },
  "language_info": {
   "codemirror_mode": {
    "name": "ipython",
    "version": 3
   },
   "file_extension": ".py",
   "mimetype": "text/x-python",
   "name": "python",
   "nbconvert_exporter": "python",
   "pygments_lexer": "ipython3",
   "version": "3.8.5"
  }
 },
 "nbformat": 4,
 "nbformat_minor": 4
}
